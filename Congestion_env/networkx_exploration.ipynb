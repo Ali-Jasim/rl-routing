{
  "cells": [
    {
      "cell_type": "code",
      "execution_count": 3,
      "metadata": {
        "id": "sNXGCs5gr7uF"
      },
      "outputs": [],
      "source": [
        "import networkx as nx\n",
        "import numpy as np"
      ]
    },
    {
      "cell_type": "code",
      "execution_count": 5,
      "metadata": {
        "colab": {
          "base_uri": "https://localhost:8080/"
        },
        "id": "ZLsGor3Tr-Bx",
        "outputId": "ccccbd8f-6f93-4127-b72c-14f148fbe415"
      },
      "outputs": [
        {
          "data": {
            "text/plain": [
              "array([ 0,  1,  2,  3,  4,  5,  6,  7,  8,  9, 10, 11, 12, 13, 14, 15, 16,\n",
              "       17, 18, 19, 20, 21, 22, 23, 24])"
            ]
          },
          "execution_count": 5,
          "metadata": {},
          "output_type": "execute_result"
        }
      ],
      "source": [
        "G = nx.random_internet_as_graph(25)\n",
        "\n",
        "\n",
        "np.array(G.nodes)\n"
      ]
    },
    {
      "cell_type": "code",
      "execution_count": 6,
      "metadata": {
        "colab": {
          "base_uri": "https://localhost:8080/"
        },
        "id": "wjAymSgYAt1_",
        "outputId": "d2eff832-7290-4f9f-f3c1-960e28410049"
      },
      "outputs": [
        {
          "data": {
            "text/plain": [
              "array([[ 0,  1],\n",
              "       [ 0,  2],\n",
              "       [ 0,  3],\n",
              "       [ 0,  4],\n",
              "       [ 0,  5],\n",
              "       [ 0, 18],\n",
              "       [ 1,  2],\n",
              "       [ 1,  3],\n",
              "       [ 1,  4],\n",
              "       [ 1,  5],\n",
              "       [ 1,  7],\n",
              "       [ 1,  9],\n",
              "       [ 2,  3],\n",
              "       [ 2,  4],\n",
              "       [ 2,  5],\n",
              "       [ 2, 10],\n",
              "       [ 3,  4],\n",
              "       [ 3,  5],\n",
              "       [ 3,  9],\n",
              "       [ 3, 14],\n",
              "       [ 3, 19],\n",
              "       [ 4,  5],\n",
              "       [ 4,  9],\n",
              "       [ 4, 10],\n",
              "       [ 4, 13],\n",
              "       [ 5,  6],\n",
              "       [ 5,  7],\n",
              "       [ 5,  8],\n",
              "       [ 5, 12],\n",
              "       [ 5, 21],\n",
              "       [ 5, 23],\n",
              "       [ 6, 15],\n",
              "       [ 6, 20],\n",
              "       [ 6, 24],\n",
              "       [ 7,  8],\n",
              "       [ 7, 11],\n",
              "       [ 7,  9],\n",
              "       [ 8, 16],\n",
              "       [ 8,  9],\n",
              "       [ 9, 17],\n",
              "       [ 9, 22]])"
            ]
          },
          "execution_count": 6,
          "metadata": {},
          "output_type": "execute_result"
        }
      ],
      "source": [
        "np.array(G.edges)"
      ]
    },
    {
      "cell_type": "code",
      "execution_count": 7,
      "metadata": {
        "colab": {
          "base_uri": "https://localhost:8080/"
        },
        "id": "RF07YTbyA4f7",
        "outputId": "02f46d18-c9ba-4248-ce19-9e8502e5ff5a"
      },
      "outputs": [
        {
          "data": {
            "text/plain": [
              "array([[0, {'type': 'T'}],\n",
              "       [1, {'type': 'T'}],\n",
              "       [2, {'type': 'T'}],\n",
              "       [3, {'type': 'T'}],\n",
              "       [4, {'type': 'T'}],\n",
              "       [5, {'type': 'T'}],\n",
              "       [6, {'type': 'M', 'peers': 0}],\n",
              "       [7, {'type': 'M', 'peers': 1}],\n",
              "       [8, {'type': 'M', 'peers': 1}],\n",
              "       [9, {'type': 'M', 'peers': 2}],\n",
              "       [10, {'type': 'CP', 'peers': 0}],\n",
              "       [11, {'type': 'C', 'peers': 0}],\n",
              "       [12, {'type': 'C', 'peers': 0}],\n",
              "       [13, {'type': 'C', 'peers': 0}],\n",
              "       [14, {'type': 'C', 'peers': 0}],\n",
              "       [15, {'type': 'C', 'peers': 0}],\n",
              "       [16, {'type': 'C', 'peers': 0}],\n",
              "       [17, {'type': 'C', 'peers': 0}],\n",
              "       [18, {'type': 'C', 'peers': 0}],\n",
              "       [19, {'type': 'C', 'peers': 0}],\n",
              "       [20, {'type': 'C', 'peers': 0}],\n",
              "       [21, {'type': 'C', 'peers': 0}],\n",
              "       [22, {'type': 'C', 'peers': 0}],\n",
              "       [23, {'type': 'C', 'peers': 0}],\n",
              "       [24, {'type': 'C', 'peers': 0}]], dtype=object)"
            ]
          },
          "execution_count": 7,
          "metadata": {},
          "output_type": "execute_result"
        }
      ],
      "source": [
        "nx.set_node_attributes(G, {})\n",
        "\n",
        "np.array(G.nodes.data())"
      ]
    },
    {
      "cell_type": "code",
      "execution_count": 12,
      "metadata": {
        "colab": {
          "base_uri": "https://localhost:8080/"
        },
        "id": "QtQer11cCerZ",
        "outputId": "011c300d-7ed9-4202-bff1-c13d68446b47"
      },
      "outputs": [
        {
          "data": {
            "text/plain": [
              "array([[ 0,  1],\n",
              "       [ 0,  2],\n",
              "       [ 0,  3],\n",
              "       [ 0,  4],\n",
              "       [ 0,  5],\n",
              "       [ 0,  8],\n",
              "       [ 0, 16],\n",
              "       [ 0, 19],\n",
              "       [ 1,  2],\n",
              "       [ 1,  3],\n",
              "       [ 1,  4],\n",
              "       [ 1,  7],\n",
              "       [ 2,  3],\n",
              "       [ 2,  4],\n",
              "       [ 2, 10],\n",
              "       [ 3,  4],\n",
              "       [ 3,  5],\n",
              "       [ 3,  6],\n",
              "       [ 3,  9],\n",
              "       [ 3, 20],\n",
              "       [ 3, 21],\n",
              "       [ 4,  7],\n",
              "       [ 4,  9],\n",
              "       [ 4, 17],\n",
              "       [ 4, 22],\n",
              "       [ 5,  8],\n",
              "       [ 5,  6],\n",
              "       [ 5,  7],\n",
              "       [ 6,  8],\n",
              "       [ 6, 18],\n",
              "       [ 7, 11],\n",
              "       [ 7, 12],\n",
              "       [ 7, 13],\n",
              "       [ 7, 14],\n",
              "       [ 7, 15],\n",
              "       [ 7, 23],\n",
              "       [ 7, 24],\n",
              "       [ 7,  8]])"
            ]
          },
          "execution_count": 12,
          "metadata": {},
          "output_type": "execute_result"
        }
      ],
      "source": [
        "np.array(G.edges())"
      ]
    }
  ],
  "metadata": {
    "colab": {
      "provenance": []
    },
    "kernelspec": {
      "display_name": "Python 3.10.7 64-bit",
      "language": "python",
      "name": "python3"
    },
    "language_info": {
      "codemirror_mode": {
        "name": "ipython",
        "version": 3
      },
      "file_extension": ".py",
      "mimetype": "text/x-python",
      "name": "python",
      "nbconvert_exporter": "python",
      "pygments_lexer": "ipython3",
      "version": "3.10.7 (tags/v3.10.7:6cc6b13, Sep  5 2022, 14:08:36) [MSC v.1933 64 bit (AMD64)]"
    },
    "vscode": {
      "interpreter": {
        "hash": "11374bf4aafa88d1715a2c1f6de4f485de0d0a7b16402d995bc466504cca5629"
      }
    }
  },
  "nbformat": 4,
  "nbformat_minor": 0
}
