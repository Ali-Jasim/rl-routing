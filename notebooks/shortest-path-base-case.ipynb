{
 "cells": [
  {
   "cell_type": "code",
   "execution_count": 1,
   "metadata": {},
   "outputs": [],
   "source": [
    "if 'google.colab' in str(get_ipython()):\n",
    "    !git clone https://github.com/lukewood/rl-routing && cd rl-routing && pip install ."
   ]
  },
  {
   "cell_type": "code",
   "execution_count": 2,
   "metadata": {},
   "outputs": [],
   "source": [
    "import networkx as nx\n",
    "\n",
    "graph=nx.random_internet_as_graph(10)\n",
    "pos = nx.spring_layout(graph)\n",
    "nx.set_node_attributes(graph, pos, \"pos\")"
   ]
  },
  {
   "cell_type": "code",
   "execution_count": null,
   "metadata": {},
   "outputs": [
    {
     "data": {
      "image/png": "[encoded data removed]",
      "text/plain": [
       "<Figure size 432x288 with 1 Axes>"
      ]
     },
     "metadata": {
      "needs_background": "light"
     },
     "output_type": "display_data"
    },
    {
     "name": "stdout",
     "output_type": "stream",
     "text": [
      "Wires:\n",
      " [[0.1954023  0.         0.         0.         0.11494253 0.\n",
      "  0.         0.         0.         0.        ]\n",
      " [0.         0.49425287 0.         0.         0.16091954 0.\n",
      "  0.         0.         0.         0.        ]\n",
      " [0.         0.         0.36781609 0.         0.27586207 0.\n",
      "  0.04597701 0.         0.         0.        ]\n",
      " [0.         0.         0.         0.33333333 0.28735632 0.\n",
      "  0.         0.         0.         0.        ]\n",
      " [0.         0.         0.12643678 0.         0.3908046  0.\n",
      "  0.         0.         0.         0.        ]\n",
      " [0.06896552 0.         0.         0.         0.         0.17241379\n",
      "  0.         0.         0.         0.        ]\n",
      " [0.         0.         0.02298851 0.         0.         0.\n",
      "  0.40229885 0.         0.         0.01149425]\n",
      " [0.         0.         0.         0.         0.         0.\n",
      "  0.         0.05747126 0.         0.        ]\n",
      " [0.         0.         0.         0.         0.         0.18390805\n",
      "  0.         0.         0.22988506 0.        ]\n",
      " [0.         0.         0.         0.         0.         0.\n",
      "  0.32183908 0.         0.         0.42528736]]\n",
      "Nodes:\n",
      " [[0.79310345 0.71264368 0.         0.         0.         0.\n",
      "  0.         0.86206897 0.29885057 0.4137931 ]\n",
      " [0.85057471 0.         0.         0.         0.         0.\n",
      "  0.81609195 0.98850575 0.73563218 0.94252874]\n",
      " [0.7816092  0.         0.         0.         0.         0.66666667\n",
      "  0.50574713 0.37931034 0.         0.13793103]\n",
      " [0.         0.8045977  0.         0.         0.         0.89655172\n",
      "  0.         0.         0.         0.57471264]\n",
      " [0.         0.65517241 0.         0.         0.         0.\n",
      "  0.         0.90804598 0.         0.45977011]\n",
      " [0.64367816 0.         0.         0.24137931 0.         0.\n",
      "  0.20689655 0.         0.47126437 0.43678161]\n",
      " [0.         0.44827586 0.         0.         0.96551724 0.\n",
      "  0.         0.83908046 0.03448276 0.62068966]\n",
      " [0.         0.95402299 0.67816092 0.         0.08045977 0.\n",
      "  0.34482759 0.         1.         0.        ]\n",
      " [0.         0.59770115 0.87356322 0.31034483 0.         0.68965517\n",
      "  0.         0.         0.         0.97701149]\n",
      " [0.         0.         0.91954023 0.93103448 0.52873563 0.\n",
      "  0.         0.         0.         0.75862069]]\n"
     ]
    }
   ],
   "source": [
    "import matplotlib.pyplot as plt\n",
    "from matplotlib.figure import Figure\n",
    "import time\n",
    "import rl_routing\n",
    "from IPython.display import clear_output\n",
    "\n",
    "def draw_output(img):\n",
    "    plt.axis(\"off\")\n",
    "    plt.imshow(img)\n",
    "    plt.show()\n",
    "\n",
    "env = rl_routing.NetworkEnv(graph=graph, fig=Figure(figsize=(6, 6)))\n",
    "i = 100\n",
    "env.create_packets(n=i)\n",
    "\n",
    "for _ in range(1000):\n",
    "    observation, reward, done, _ = env.step()\n",
    "    img = env.render()\n",
    "    draw_output(img)\n",
    "    print(\"Adjacency Matrix\\n\", observation[0])\n",
    "    print(\"Wires:\\n\",observation[1])\n",
    "    print(\"Nodes:\\n\",observation[2])\n",
    "    clear_output(wait=True)\n",
    "    time.sleep(10000/1000)\n",
    "    if done:\n",
    "        env.create_packets(n=i)\n",
    "        i+=1\n",
    "draw_output(env.render())\n"
   ]
  },
  {
   "cell_type": "code",
   "execution_count": null,
   "metadata": {},
   "outputs": [],
   "source": []
  },
  {
   "cell_type": "raw",
   "metadata": {},
   "source": []
  }
 ],
 "metadata": {
  "kernelspec": {
   "display_name": "Python 3",
   "language": "python",
   "name": "python3"
  },
  "language_info": {
   "codemirror_mode": {
    "name": "ipython",
    "version": 3
   },
   "file_extension": ".py",
   "mimetype": "text/x-python",
   "name": "python",
   "nbconvert_exporter": "python",
   "pygments_lexer": "ipython3",
   "version": "3.8.5"
  }
 },
 "nbformat": 4,
 "nbformat_minor": 4
}
